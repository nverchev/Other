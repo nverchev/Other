{
  "nbformat": 4,
  "nbformat_minor": 0,
  "metadata": {
    "colab": {
      "name": "Chamfer distance for Pytorch: comparison",
      "provenance": [],
      "authorship_tag": "ABX9TyNLPKU1Hhzll0RzNffDG2YO",
      "include_colab_link": true
    },
    "kernelspec": {
      "name": "python3",
      "display_name": "Python 3"
    },
    "language_info": {
      "name": "python"
    },
    "accelerator": "GPU"
  },
  "cells": [
    {
      "cell_type": "markdown",
      "metadata": {
        "id": "view-in-github",
        "colab_type": "text"
      },
      "source": [
        "<a href=\"https://colab.research.google.com/github/nverchev/Other/blob/main/Chamfer_distance_for_Pytorch_comparison.ipynb\" target=\"_parent\"><img src=\"https://colab.research.google.com/assets/colab-badge.svg\" alt=\"Open In Colab\"/></a>"
      ]
    },
    {
      "cell_type": "markdown",
      "source": [
        "# What is the best implementation of the Chamfer Distance?\n",
        "\n",
        "We compare a simple implementation with other two coming from two libraries.\n",
        "- https://github.com/otaheri/chamfer_distance\n",
        "- https://pypi.org/project/chamferdist/1.0.0/#description\n",
        "\n",
        "These implementatations are compatible with torch.autograd, and we test them using GPU power.\n",
        "\n",
        "I suggest to run the experiment different times to account for some possible overhead."
      ],
      "metadata": {
        "id": "_x5EAhMS0xKP"
      }
    },
    {
      "cell_type": "code",
      "source": [
        "#First implementation \n",
        "!pip install git+'https://github.com/otaheri/chamfer_distance'\n",
        "\n",
        "#Second implementation\n",
        "!pip install chamferdist\n"
      ],
      "metadata": {
        "id": "zFeIlNYZ17ZP",
        "outputId": "6a17486e-d863-4910-8118-9efe497bbf50",
        "colab": {
          "base_uri": "https://localhost:8080/"
        }
      },
      "execution_count": 4,
      "outputs": [
        {
          "output_type": "stream",
          "name": "stdout",
          "text": [
            "Collecting git+https://github.com/otaheri/chamfer_distance\n",
            "  Cloning https://github.com/otaheri/chamfer_distance to /tmp/pip-req-build-sx6zoqx4\n",
            "  Running command git clone -q https://github.com/otaheri/chamfer_distance /tmp/pip-req-build-sx6zoqx4\n",
            "Requirement already satisfied: torch>=1.1.0 in /usr/local/lib/python3.7/dist-packages (from chamfer-distance==0.1) (1.10.0+cu111)\n",
            "Collecting Ninja\n",
            "  Downloading ninja-1.10.2.3-py2.py3-none-manylinux_2_5_x86_64.manylinux1_x86_64.whl (108 kB)\n",
            "\u001b[K     |████████████████████████████████| 108 kB 4.3 MB/s \n",
            "\u001b[?25hRequirement already satisfied: typing-extensions in /usr/local/lib/python3.7/dist-packages (from torch>=1.1.0->chamfer-distance==0.1) (3.10.0.2)\n",
            "Building wheels for collected packages: chamfer-distance\n",
            "  Building wheel for chamfer-distance (setup.py) ... \u001b[?25l\u001b[?25hdone\n",
            "  Created wheel for chamfer-distance: filename=chamfer_distance-0.1-py3-none-any.whl size=5653 sha256=e88283e85b7b193a2a2fcd7ac6580c3ff68abfea30cb7b73bc1534fa4ec7164e\n",
            "  Stored in directory: /tmp/pip-ephem-wheel-cache-3ti5ia64/wheels/2a/c5/7c/395771526a57f81590f5b9e2be57f219f834d894e10b1cd993\n",
            "Successfully built chamfer-distance\n",
            "Installing collected packages: Ninja, chamfer-distance\n",
            "Successfully installed Ninja-1.10.2.3 chamfer-distance-0.1\n",
            "Collecting chamferdist\n",
            "  Downloading chamferdist-1.0.0.tar.gz (16 kB)\n",
            "Building wheels for collected packages: chamferdist\n",
            "  Building wheel for chamferdist (setup.py) ... \u001b[?25l\u001b[?25hdone\n",
            "  Created wheel for chamferdist: filename=chamferdist-1.0.0-cp37-cp37m-linux_x86_64.whl size=6358578 sha256=1208d8d06bc289545bd956105753c9ac2ab8b8acfe4a2cbc9f83addc5ec2f19e\n",
            "  Stored in directory: /root/.cache/pip/wheels/28/bb/d1/c789ecd6835e466e813f6e2c5e23bb1bbb2248e84586ba82d2\n",
            "Successfully built chamferdist\n",
            "Installing collected packages: chamferdist\n",
            "Successfully installed chamferdist-1.0.0\n"
          ]
        }
      ]
    },
    {
      "cell_type": "code",
      "execution_count": 1,
      "metadata": {
        "id": "U6oFrClH0f-Y"
      },
      "outputs": [],
      "source": [
        "import time\n",
        "import torch\n",
        "device = torch.device(\"cuda:0\" if torch.cuda.is_available() else \"cpu\")\n",
        "\n",
        "pc1 = torch.rand([100,1000,3]).to()\n",
        "pc2 = torch.rand([100,100,3]).to()"
      ]
    },
    {
      "cell_type": "code",
      "source": [
        "from chamfer_distance import ChamferDistance\n",
        "chamdist = ChamferDistance()\n",
        "start = time.time()\n",
        "d1,d2,_,_ = chamdist(pc1,pc2) # dist forward, dist reverse\n",
        "d = d1.sum(axis=1).mean() + d2.sum(axis=1).mean() # batchmean\n",
        "end = time.time()\n",
        "print(\"First implementation:\")\n",
        "print(\"Time: \", end - start)\n",
        "print(\"Result: \", d)"
      ],
      "metadata": {
        "id": "aRiecm8Y2KrY",
        "outputId": "4ff19caf-9633-4e71-9294-7ebe15316858",
        "colab": {
          "base_uri": "https://localhost:8080/"
        }
      },
      "execution_count": 2,
      "outputs": [
        {
          "output_type": "stream",
          "name": "stdout",
          "text": [
            "First implementation:\n",
            "Time:  0.19299530982971191\n",
            "Result:  tensor(19.7662)\n"
          ]
        }
      ]
    },
    {
      "cell_type": "code",
      "source": [
        "from chamferdist import ChamferDistance\n",
        "chamdist = ChamferDistance()\n",
        "start = time.time()\n",
        "d = chamdist(pc1,pc2, bidirectional=True, reduction=\"mean\") \n",
        "end = time.time()\n",
        "print(\"Second implementation:\")\n",
        "print(\"Time: \", end - start)\n",
        "print(\"Result: \", d)"
      ],
      "metadata": {
        "id": "Kx7D1AOO2LE7",
        "outputId": "d5e09e3d-1a7b-4e26-8d01-645884b6a5d1",
        "colab": {
          "base_uri": "https://localhost:8080/"
        }
      },
      "execution_count": 3,
      "outputs": [
        {
          "output_type": "stream",
          "name": "stdout",
          "text": [
            "Second implementation:\n",
            "Time:  0.22507572174072266\n",
            "Result:  tensor(19.7662)\n"
          ]
        }
      ]
    },
    {
      "cell_type": "code",
      "source": [
        "def square_distance(t1, t2):\n",
        "    t2 = t2.permute(0, 2, 1)\n",
        "    dist = -2 * torch.matmul(t1, t2)\n",
        "    dist += torch.sum(t1 ** 2, 2, keepdim=True)\n",
        "    dist += torch.sum(t2 ** 2, 1, keepdim=True)\n",
        "    return dist\n",
        "    \n",
        "# Chamfer Distance\n",
        "def chamdist(t1, t2): \n",
        "    dist = square_distance(t1, t2)\n",
        "    # forward + reverse\n",
        "    return torch.min(dist, axis = 2)[0].mean(0).sum()\\\n",
        "         + torch.min(dist, axis = 1)[0].mean(0).sum()\n",
        "\n",
        "start = time.time()\n",
        "d = chamdist(pc1, pc2)\n",
        "end = time.time()\n",
        "print(\"Simple implementation:\")\n",
        "print(\"Time: \", end - start)\n",
        "print(\"Result: \", d)"
      ],
      "metadata": {
        "id": "7JA3VF7x2LoF",
        "outputId": "631d86d4-43ef-43b7-d508-f5d8181277aa",
        "colab": {
          "base_uri": "https://localhost:8080/"
        }
      },
      "execution_count": 4,
      "outputs": [
        {
          "output_type": "stream",
          "name": "stdout",
          "text": [
            "Simple implementation:\n",
            "Time:  0.13100361824035645\n",
            "Result:  tensor(19.7662)\n"
          ]
        }
      ]
    },
    {
      "cell_type": "markdown",
      "source": [
        "# Discussion\n",
        "Surprisingly, the simple implementation in torch is quicker than the ones from the two libraries.\n",
        "\n",
        "Hope this could be useful to anybody starting with PCD.\n"
      ],
      "metadata": {
        "id": "SP0qTMfE3wcG"
      }
    }
  ]
}